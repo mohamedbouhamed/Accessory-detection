{
  "cells": [
    {
      "cell_type": "code",
      "execution_count": 2,
      "metadata": {
        "id": "fJQM_TXOSJ-w"
      },
      "outputs": [],
      "source": [
        "import numpy as np\n",
        "from tqdm import tqdm\n",
        "import cv2"
      ]
    },
    {
      "cell_type": "code",
      "execution_count": null,
      "metadata": {
        "colab": {
          "base_uri": "https://localhost:8080/",
          "height": 74
        },
        "id": "bTt61FBtC0K-",
        "outputId": "e8cbb159-2a51-49cf-c42c-b5c79f809ce3"
      },
      "outputs": [
        {
          "data": {
            "text/html": [
              "\n",
              "     <input type=\"file\" id=\"files-4f0ef091-aa70-44f1-b5f1-982d4d8a0a88\" name=\"files[]\" multiple disabled\n",
              "        style=\"border:none\" />\n",
              "     <output id=\"result-4f0ef091-aa70-44f1-b5f1-982d4d8a0a88\">\n",
              "      Upload widget is only available when the cell has been executed in the\n",
              "      current browser session. Please rerun this cell to enable.\n",
              "      </output>\n",
              "      <script>// Copyright 2017 Google LLC\n",
              "//\n",
              "// Licensed under the Apache License, Version 2.0 (the \"License\");\n",
              "// you may not use this file except in compliance with the License.\n",
              "// You may obtain a copy of the License at\n",
              "//\n",
              "//      http://www.apache.org/licenses/LICENSE-2.0\n",
              "//\n",
              "// Unless required by applicable law or agreed to in writing, software\n",
              "// distributed under the License is distributed on an \"AS IS\" BASIS,\n",
              "// WITHOUT WARRANTIES OR CONDITIONS OF ANY KIND, either express or implied.\n",
              "// See the License for the specific language governing permissions and\n",
              "// limitations under the License.\n",
              "\n",
              "/**\n",
              " * @fileoverview Helpers for google.colab Python module.\n",
              " */\n",
              "(function(scope) {\n",
              "function span(text, styleAttributes = {}) {\n",
              "  const element = document.createElement('span');\n",
              "  element.textContent = text;\n",
              "  for (const key of Object.keys(styleAttributes)) {\n",
              "    element.style[key] = styleAttributes[key];\n",
              "  }\n",
              "  return element;\n",
              "}\n",
              "\n",
              "// Max number of bytes which will be uploaded at a time.\n",
              "const MAX_PAYLOAD_SIZE = 100 * 1024;\n",
              "\n",
              "function _uploadFiles(inputId, outputId) {\n",
              "  const steps = uploadFilesStep(inputId, outputId);\n",
              "  const outputElement = document.getElementById(outputId);\n",
              "  // Cache steps on the outputElement to make it available for the next call\n",
              "  // to uploadFilesContinue from Python.\n",
              "  outputElement.steps = steps;\n",
              "\n",
              "  return _uploadFilesContinue(outputId);\n",
              "}\n",
              "\n",
              "// This is roughly an async generator (not supported in the browser yet),\n",
              "// where there are multiple asynchronous steps and the Python side is going\n",
              "// to poll for completion of each step.\n",
              "// This uses a Promise to block the python side on completion of each step,\n",
              "// then passes the result of the previous step as the input to the next step.\n",
              "function _uploadFilesContinue(outputId) {\n",
              "  const outputElement = document.getElementById(outputId);\n",
              "  const steps = outputElement.steps;\n",
              "\n",
              "  const next = steps.next(outputElement.lastPromiseValue);\n",
              "  return Promise.resolve(next.value.promise).then((value) => {\n",
              "    // Cache the last promise value to make it available to the next\n",
              "    // step of the generator.\n",
              "    outputElement.lastPromiseValue = value;\n",
              "    return next.value.response;\n",
              "  });\n",
              "}\n",
              "\n",
              "/**\n",
              " * Generator function which is called between each async step of the upload\n",
              " * process.\n",
              " * @param {string} inputId Element ID of the input file picker element.\n",
              " * @param {string} outputId Element ID of the output display.\n",
              " * @return {!Iterable<!Object>} Iterable of next steps.\n",
              " */\n",
              "function* uploadFilesStep(inputId, outputId) {\n",
              "  const inputElement = document.getElementById(inputId);\n",
              "  inputElement.disabled = false;\n",
              "\n",
              "  const outputElement = document.getElementById(outputId);\n",
              "  outputElement.innerHTML = '';\n",
              "\n",
              "  const pickedPromise = new Promise((resolve) => {\n",
              "    inputElement.addEventListener('change', (e) => {\n",
              "      resolve(e.target.files);\n",
              "    });\n",
              "  });\n",
              "\n",
              "  const cancel = document.createElement('button');\n",
              "  inputElement.parentElement.appendChild(cancel);\n",
              "  cancel.textContent = 'Cancel upload';\n",
              "  const cancelPromise = new Promise((resolve) => {\n",
              "    cancel.onclick = () => {\n",
              "      resolve(null);\n",
              "    };\n",
              "  });\n",
              "\n",
              "  // Wait for the user to pick the files.\n",
              "  const files = yield {\n",
              "    promise: Promise.race([pickedPromise, cancelPromise]),\n",
              "    response: {\n",
              "      action: 'starting',\n",
              "    }\n",
              "  };\n",
              "\n",
              "  cancel.remove();\n",
              "\n",
              "  // Disable the input element since further picks are not allowed.\n",
              "  inputElement.disabled = true;\n",
              "\n",
              "  if (!files) {\n",
              "    return {\n",
              "      response: {\n",
              "        action: 'complete',\n",
              "      }\n",
              "    };\n",
              "  }\n",
              "\n",
              "  for (const file of files) {\n",
              "    const li = document.createElement('li');\n",
              "    li.append(span(file.name, {fontWeight: 'bold'}));\n",
              "    li.append(span(\n",
              "        `(${file.type || 'n/a'}) - ${file.size} bytes, ` +\n",
              "        `last modified: ${\n",
              "            file.lastModifiedDate ? file.lastModifiedDate.toLocaleDateString() :\n",
              "                                    'n/a'} - `));\n",
              "    const percent = span('0% done');\n",
              "    li.appendChild(percent);\n",
              "\n",
              "    outputElement.appendChild(li);\n",
              "\n",
              "    const fileDataPromise = new Promise((resolve) => {\n",
              "      const reader = new FileReader();\n",
              "      reader.onload = (e) => {\n",
              "        resolve(e.target.result);\n",
              "      };\n",
              "      reader.readAsArrayBuffer(file);\n",
              "    });\n",
              "    // Wait for the data to be ready.\n",
              "    let fileData = yield {\n",
              "      promise: fileDataPromise,\n",
              "      response: {\n",
              "        action: 'continue',\n",
              "      }\n",
              "    };\n",
              "\n",
              "    // Use a chunked sending to avoid message size limits. See b/62115660.\n",
              "    let position = 0;\n",
              "    do {\n",
              "      const length = Math.min(fileData.byteLength - position, MAX_PAYLOAD_SIZE);\n",
              "      const chunk = new Uint8Array(fileData, position, length);\n",
              "      position += length;\n",
              "\n",
              "      const base64 = btoa(String.fromCharCode.apply(null, chunk));\n",
              "      yield {\n",
              "        response: {\n",
              "          action: 'append',\n",
              "          file: file.name,\n",
              "          data: base64,\n",
              "        },\n",
              "      };\n",
              "\n",
              "      let percentDone = fileData.byteLength === 0 ?\n",
              "          100 :\n",
              "          Math.round((position / fileData.byteLength) * 100);\n",
              "      percent.textContent = `${percentDone}% done`;\n",
              "\n",
              "    } while (position < fileData.byteLength);\n",
              "  }\n",
              "\n",
              "  // All done.\n",
              "  yield {\n",
              "    response: {\n",
              "      action: 'complete',\n",
              "    }\n",
              "  };\n",
              "}\n",
              "\n",
              "scope.google = scope.google || {};\n",
              "scope.google.colab = scope.google.colab || {};\n",
              "scope.google.colab._files = {\n",
              "  _uploadFiles,\n",
              "  _uploadFilesContinue,\n",
              "};\n",
              "})(self);\n",
              "</script> "
            ],
            "text/plain": [
              "<IPython.core.display.HTML object>"
            ]
          },
          "metadata": {},
          "output_type": "display_data"
        },
        {
          "name": "stdout",
          "output_type": "stream",
          "text": [
            "Saving ml_exercise_therapanacea.zip to ml_exercise_therapanacea.zip\n"
          ]
        }
      ],
      "source": [
        "from google.colab import files\n",
        "uploaded = files.upload()"
      ]
    },
    {
      "cell_type": "code",
      "execution_count": null,
      "metadata": {
        "colab": {
          "base_uri": "https://localhost:8080/"
        },
        "id": "bIRqaPzmC_pF",
        "outputId": "ba0008a2-2331-4977-cc01-286a04574915"
      },
      "outputs": [],
      "source": [
        "from zipfile import ZipFile\n",
        "import os\n",
        "file_name = \"ml_exercise_therapanacea.zip\"\n",
        "with ZipFile(file_name,'r') as zip:\n",
        "  zip.extractall()\n",
        "  print('Done')"
      ]
    },
    {
      "cell_type": "code",
      "execution_count": 8,
      "metadata": {
        "colab": {
          "base_uri": "https://localhost:8080/"
        },
        "id": "8H0hfUnER2Qo",
        "outputId": "3480c4d4-9570-47f1-cf0b-7a0157497ad0"
      },
      "outputs": [
        {
          "name": "stdout",
          "output_type": "stream",
          "text": [
            "Total: 100000, Distribution: [12102 87898]\n"
          ]
        }
      ],
      "source": [
        "import os\n",
        "y=[]\n",
        "os.chdir('/Users/macbookair/Desktop/therapanacea/ml_exercise_therapanacea')\n",
        "with open('label_train.txt', 'r') as f:\n",
        "    y = [int(line.strip()) for line in f.readlines()]\n",
        "print(f\"Total: {len(y)}, Distribution: {np.bincount(y)}\")"
      ]
    },
    {
      "cell_type": "code",
      "execution_count": 4,
      "metadata": {
        "id": "FJKy9S7e6O4Z"
      },
      "outputs": [],
      "source": [
        "import os\n",
        "from tqdm import tqdm\n",
        "import cv2\n",
        "import re\n",
        "X=[]\n",
        "os.chdir('train_img')\n",
        "def numerical_sort(value):\n",
        "    # extrait les nombres dans le nom du fichier\n",
        "    numbers = re.findall(r'\\d+', value)\n",
        "    return int(numbers[0]) if numbers else 0\n",
        "\n",
        "files = sorted(os.listdir(), key=numerical_sort)"
      ]
    },
    {
      "cell_type": "code",
      "execution_count": null,
      "metadata": {
        "colab": {
          "base_uri": "https://localhost:8080/"
        },
        "id": "a5tIyMNBQ783",
        "outputId": "22dc4313-d523-4cdb-de8d-d5b68a911a6d"
      },
      "outputs": [],
      "source": [
        "# from tensorflow.keras.applications.mobilenet import preprocess_input\n",
        "# target_size = (224, 224)\n",
        "\n",
        "# for i in tqdm(files):\n",
        "#     img = cv2.imread(i)\n",
        "#     img = cv2.cvtColor(img, cv2.COLOR_BGR2RGB)\n",
        "#     img = cv2.resize(img, target_size)\n",
        "#     img = img.astype(np.float32)\n",
        "#     img = preprocess_input(img)  # met entre -1 et 1\n",
        "#     X.append(img)\n"
      ]
    },
    {
      "cell_type": "code",
      "execution_count": 8,
      "metadata": {
        "colab": {
          "base_uri": "https://localhost:8080/",
          "height": 129
        },
        "id": "nZMSMnZ8Tv_g",
        "outputId": "dba354ab-09e6-4944-952b-290b83462197"
      },
      "outputs": [
        {
          "data": {
            "image/png": "[encoded data removed]",
            "text/plain": [
              "<Figure size 1000x1000 with 9 Axes>"
            ]
          },
          "metadata": {},
          "output_type": "display_data"
        }
      ],
      "source": [
        "import matplotlib.pyplot as plt\n",
        "plt.figure(figsize=(10, 10))\n",
        "for i in range(9):\n",
        "    plt.subplot(1, 9, i+1)\n",
        "    image_index = i*20\n",
        "    plt.imshow(X[image_index].astype('uint8'))\n",
        "    plt.axis('off')\n",
        "    plt.title(f'Photo #{image_index}', fontsize=10)\n",
        "plt.show()"
      ]
    },
    {
      "cell_type": "markdown",
      "metadata": {
        "id": "zhElooljgHmT"
      },
      "source": []
    },
    {
      "cell_type": "code",
      "execution_count": 83,
      "metadata": {
        "colab": {
          "base_uri": "https://localhost:8080/"
        },
        "id": "EQshgUqkW_ou",
        "outputId": "e387ebf7-dd28-401e-c7f7-5fb1ffdb8564"
      },
      "outputs": [
        {
          "name": "stdout",
          "output_type": "stream",
          "text": [
            "Échantillon: 50000\n",
            "y_train: 40000, y_val: 10000\n"
          ]
        }
      ],
      "source": [
        "from sklearn.model_selection import train_test_split\n",
        "import numpy as np\n",
        "\n",
        "# Échantillonnage sur les indices seulement\n",
        "sample_size = 50000\n",
        "_, sample_indices = train_test_split(\n",
        "    range(len(y)),\n",
        "    test_size=sample_size,\n",
        "    stratify=y,\n",
        "    random_state=42\n",
        ")\n",
        "\n",
        "sample_indices = np.array(sample_indices)  # ← CORRECTION : convertir en array\n",
        "sample_labels = y[sample_indices]\n",
        "print(f\"Échantillon: {len(sample_labels)}\")\n",
        "\n",
        "# Split train/val sur l'échantillon\n",
        "train_indices_local, val_indices_local = train_test_split(\n",
        "    range(len(sample_labels)),\n",
        "    test_size=0.2,\n",
        "    stratify=sample_labels,\n",
        "    random_state=42\n",
        ")\n",
        "\n",
        "train_indices_local = np.array(train_indices_local)  # ← CORRECTION\n",
        "val_indices_local = np.array(val_indices_local)     # ← CORRECTION\n",
        "\n",
        "# Créer y_train et y_val\n",
        "y_train = sample_labels[train_indices_local]\n",
        "y_val = sample_labels[val_indices_local]\n",
        "\n",
        "# Créer les vrais indices pour charger les images\n",
        "train_sample_indices = sample_indices[train_indices_local]  # ← Maintenant ça marche\n",
        "val_sample_indices = sample_indices[val_indices_local]\n",
        "\n",
        "print(f\"y_train: {len(y_train)}, y_val: {len(y_val)}\")"
      ]
    },
    {
      "cell_type": "code",
      "execution_count": null,
      "metadata": {
        "colab": {
          "base_uri": "https://localhost:8080/",
          "height": 452
        },
        "collapsed": true,
        "id": "IXlD_nKQjJZv",
        "outputId": "0824b195-d145-48cf-a1d1-f3cc4d9c4552"
      },
      "outputs": [],
      "source": [
        "import matplotlib.pyplot as plt\n",
        "import numpy as np\n",
        "import random\n",
        "\n",
        "class_names = ['Classe 0', 'Classe 1']\n",
        "random_indices = random.sample(range(len(X_train)), 6)\n",
        "\n",
        "plt.figure(figsize=(18, 8))\n",
        "\n",
        "for i, idx in enumerate(random_indices):\n",
        "   # Image via X_train\n",
        "   plt.subplot(2, 6, i+1)\n",
        "   plt.imshow(X_train[idx])\n",
        "   label = np.argmax(y_train[idx])\n",
        "   original_idx = train_indices[idx]\n",
        "   plt.title(f'X_train[{idx}]\\nOriginal #{original_idx}\\n{class_names[label]}', fontsize=9)\n",
        "   plt.axis('off')\n",
        "\n",
        "   # Image via X[original_idx] pour vérification\n",
        "   plt.subplot(2, 6, i+7)\n",
        "   plt.imshow(X[original_idx])\n",
        "   label_original = np.argmax(y[original_idx])\n",
        "   plt.title(f'X[{original_idx}]\\nDirect access\\n{class_names[label_original]}', fontsize=9)\n",
        "   plt.axis('off')\n",
        "\n",
        "plt.suptitle('Vérification: X_train vs X[original_idx]', fontsize=16)\n",
        "plt.tight_layout()\n",
        "plt.show()"
      ]
    },
    {
      "cell_type": "code",
      "execution_count": 1,
      "metadata": {
        "id": "S0mU9fbKeman"
      },
      "outputs": [],
      "source": [
        "from tensorflow.keras.applications import MobileNetV2\n",
        "\n",
        "# Maintenant vos images sont déjà en 224x224\n",
        "img_rows, img_cols = 224, 224\n",
        "\n",
        "# Load MobileNetV2\n",
        "mobilenet = MobileNetV2(weights='imagenet',\n",
        "                       include_top=False,\n",
        "                       input_shape=(img_rows, img_cols, 3))\n",
        "# Freeze the layers\n",
        "for layer in mobilenet.layers:\n",
        "    layer.trainable = False\n"
      ]
    },
    {
      "cell_type": "code",
      "execution_count": 2,
      "metadata": {
        "id": "x9sNuVtDBWXw"
      },
      "outputs": [],
      "source": [
        "from keras.models import Sequential\n",
        "from keras.layers import Dense, Dropout, Activation, Flatten, GlobalAveragePooling2D\n",
        "from keras.layers import Conv2D, MaxPooling2D, ZeroPadding2D\n",
        "def lw(bottom_model, num_classes=None):\n",
        "    \"\"\"creates the top or head of the model that will be\n",
        "    placed ontop of the bottom layers\"\"\"\n",
        "\n",
        "    top_model = bottom_model.output\n",
        "    top_model = GlobalAveragePooling2D()(top_model)\n",
        "    top_model = Dense(1024,activation='relu')(top_model)\n",
        "    top_model = Dropout(0.2)(top_model)\n",
        "    top_model = Dense(1024,activation='relu')(top_model)\n",
        "    top_model = Dropout(0.2)(top_model)\n",
        "    top_model = Dense(512,activation='relu')(top_model)\n",
        "    top_model = Dropout(0.2)(top_model)\n",
        "    top_model = Dense(1, activation='sigmoid')(top_model)  # 1 sortie pour binaire\n",
        "    return top_model"
      ]
    },
    {
      "cell_type": "code",
      "execution_count": null,
      "metadata": {
        "colab": {
          "base_uri": "https://localhost:8080/",
          "height": 959
        },
        "collapsed": true,
        "id": "Tsuk6WMLBaHR",
        "outputId": "acc11b30-5322-4d28-a247-b44124f432eb"
      },
      "outputs": [],
      "source": [
        "from tensorflow.keras.models import Model\n",
        "\n",
        "num_classes = 2\n",
        "\n",
        "FC_Head = lw(mobilenet)\n",
        "model = Model(inputs = mobilenet.input, outputs = FC_Head)\n",
        "print(model.summary())"
      ]
    },
    {
      "cell_type": "code",
      "execution_count": 49,
      "metadata": {},
      "outputs": [
        {
          "name": "stdout",
          "output_type": "stream",
          "text": [
            "Nouveaux poids: {0: np.float64(16.52892561983471), 1: np.float64(1.1376564277588168)}\n"
          ]
        }
      ],
      "source": [
        "# Au lieu de class_weight_dict calculé automatiquement\n",
        "class_weight_dict = {0: 15.0, 1: 1.0}  # Beaucoup plus agressif !\n",
        "\n",
        "# Ou calculer manuellement\n",
        "total = len(y_train)\n",
        "count_0 = np.sum(y_train == 0)\n",
        "count_1 = np.sum(y_train == 1)\n",
        "\n",
        "# Formule plus agressive\n",
        "weight_0 = (total / count_0) * 2  # Multiplier par 2 ou 3\n",
        "weight_1 = total / count_1\n",
        "\n",
        "class_weight_dict = {0: weight_0, 1: weight_1}\n",
        "print(f\"Nouveaux poids: {class_weight_dict}\")"
      ]
    },
    {
      "cell_type": "code",
      "execution_count": 13,
      "metadata": {
        "id": "4RyvDwpzBbl2"
      },
      "outputs": [],
      "source": [
        "# Compile the model with an optimizer and loss function\n",
        "model.compile(optimizer='adam', \n",
        "              loss='binary_crossentropy',\n",
        "              metrics=['accuracy'])\n",
        "# from tensorflow.keras.optimizers import Adam\n",
        "# # Learning rate beaucoup plus bas quand on dégèle des couches\n",
        "# model.compile(optimizer=Adam(learning_rate=0.00001),  # Très bas !\n",
        "#               loss='categorical_crossentropy',\n",
        "#               metrics=['accuracy'])\n",
        "\n",
        "#loss='binary_crossentropy',"
      ]
    },
    {
      "cell_type": "code",
      "execution_count": 52,
      "metadata": {},
      "outputs": [
        {
          "name": "stdout",
          "output_type": "stream",
          "text": [
            "Poids des classes: {np.int64(0): np.float64(4.132231404958677), np.int64(1): np.float64(0.5688282138794084)}\n",
            "Nombre de fichiers: 100000\n",
            "Premiers fichiers: ['000001.jpg', '000002.jpg', '000003.jpg', '000004.jpg', '000005.jpg']\n"
          ]
        }
      ],
      "source": [
        "from sklearn.utils.class_weight import compute_class_weight\n",
        "\n",
        "classes = np.unique(y_train)\n",
        "class_weights = compute_class_weight('balanced', classes=classes, y=y_train)\n",
        "class_weight_dict = dict(zip(classes, class_weights))\n",
        "\n",
        "print(f\"Poids des classes: {class_weight_dict}\")\n",
        "os.chdir('/Users/macbookair/Desktop/therapanacea/ml_exercise_therapanacea/train_img')\n",
        "files = sorted(os.listdir())\n",
        "\n",
        "print(f\"Nombre de fichiers: {len(files)}\")\n",
        "print(f\"Premiers fichiers: {files[:5]}\")"
      ]
    },
    {
      "cell_type": "code",
      "execution_count": 84,
      "metadata": {},
      "outputs": [
        {
          "name": "stdout",
          "output_type": "stream",
          "text": [
            "Création des générateurs stratifiés...\n",
            "Distribution par batch: 16 classe 0 + 16 classe 1\n",
            "Disponible: 4841 classe 0, 35159 classe 1\n",
            "Distribution par batch: 3 classe 0 + 29 classe 1\n",
            "Disponible: 1210 classe 0, 8790 classe 1\n",
            "\n",
            "Entraînement avec batches stratifiés...\n",
            "Epoch 1/2\n"
          ]
        },
        {
          "name": "stderr",
          "output_type": "stream",
          "text": [
            "/Users/macbookair/Library/Python/3.11/lib/python/site-packages/keras/src/trainers/data_adapters/py_dataset_adapter.py:121: UserWarning: Your `PyDataset` class should call `super().__init__(**kwargs)` in its constructor. `**kwargs` can include `workers`, `use_multiprocessing`, `max_queue_size`. Do not pass these arguments to `fit()`, as they will be ignored.\n",
            "  self._warn_if_super_not_called()\n"
          ]
        },
        {
          "name": "stdout",
          "output_type": "stream",
          "text": [
            "\u001b[1m200/200\u001b[0m \u001b[32m━━━━━━━━━━━━━━━━━━━━\u001b[0m\u001b[37m\u001b[0m \u001b[1m153s\u001b[0m 769ms/step - accuracy: 0.8588 - loss: 0.3880 - val_accuracy: 0.8695 - val_loss: 0.2868\n",
            "Epoch 2/2\n",
            "\u001b[1m200/200\u001b[0m \u001b[32m━━━━━━━━━━━━━━━━━━━━\u001b[0m\u001b[37m\u001b[0m \u001b[1m149s\u001b[0m 748ms/step - accuracy: 0.8561 - loss: 0.3347 - val_accuracy: 0.8923 - val_loss: 0.2582\n",
            "Entraînement terminé !\n"
          ]
        }
      ],
      "source": [
        "import tensorflow as tf\n",
        "from tensorflow.keras.utils import Sequence\n",
        "from tensorflow.keras.applications.mobilenet_v2 import preprocess_input\n",
        "import numpy as np\n",
        "\n",
        "class StratifiedGenerator(Sequence):\n",
        "    def __init__(self, indices, labels, batch_size=32, class_0_ratio=0.5):\n",
        "        self.all_indices = indices\n",
        "        self.all_labels = labels\n",
        "        self.batch_size = batch_size\n",
        "        self.class_0_ratio = class_0_ratio\n",
        "        \n",
        "        # Séparer les indices par classe\n",
        "        self.class_0_indices = indices[labels == 0]\n",
        "        self.class_1_indices = indices[labels == 1]\n",
        "        \n",
        "        # Calculer combien d'images de chaque classe par batch\n",
        "        self.n_class_0_per_batch = int(batch_size * class_0_ratio)\n",
        "        self.n_class_1_per_batch = batch_size - self.n_class_0_per_batch\n",
        "        \n",
        "        print(f\"Distribution par batch: {self.n_class_0_per_batch} classe 0 + {self.n_class_1_per_batch} classe 1\")\n",
        "        print(f\"Disponible: {len(self.class_0_indices)} classe 0, {len(self.class_1_indices)} classe 1\")\n",
        "        \n",
        "        # Créer des pools d'indices réutilisables pour éviter l'épuisement\n",
        "        self.epochs_completed = 0\n",
        "        self._shuffle_indices()\n",
        "        \n",
        "    def _shuffle_indices(self):\n",
        "        \"\"\"Mélange et duplique les indices si nécessaire\"\"\"\n",
        "        # Calculer combien de fois on doit répéter chaque classe pour avoir assez d'échantillons\n",
        "        needed_0 = self.n_class_0_per_batch * 1000  # Pour 1000 batches\n",
        "        needed_1 = self.n_class_1_per_batch * 1000\n",
        "        \n",
        "        repeat_0 = max(1, needed_0 // len(self.class_0_indices) + 1)\n",
        "        repeat_1 = max(1, needed_1 // len(self.class_1_indices) + 1)\n",
        "        \n",
        "        # Créer des pools avec répétition\n",
        "        self.shuffled_0 = np.tile(self.class_0_indices, repeat_0)\n",
        "        self.shuffled_1 = np.tile(self.class_1_indices, repeat_1)\n",
        "        \n",
        "        # Mélanger\n",
        "        np.random.shuffle(self.shuffled_0)\n",
        "        np.random.shuffle(self.shuffled_1)\n",
        "        \n",
        "        # Compteurs\n",
        "        self.idx_0 = 0\n",
        "        self.idx_1 = 0\n",
        "        \n",
        "    def __len__(self):\n",
        "        # Nombre de batches possible (limité par l'epoch)\n",
        "        return min(200, len(self.all_indices) // self.batch_size)  # Limite à 200 batches par epoch\n",
        "    \n",
        "    def __getitem__(self, idx):\n",
        "        # Vérifier s'il faut reshuffler\n",
        "        if (self.idx_0 + self.n_class_0_per_batch >= len(self.shuffled_0) or \n",
        "            self.idx_1 + self.n_class_1_per_batch >= len(self.shuffled_1)):\n",
        "            self._shuffle_indices()\n",
        "        \n",
        "        # Sélectionner les indices pour ce batch\n",
        "        batch_0_indices = self.shuffled_0[self.idx_0:self.idx_0 + self.n_class_0_per_batch]\n",
        "        batch_1_indices = self.shuffled_1[self.idx_1:self.idx_1 + self.n_class_1_per_batch]\n",
        "        \n",
        "        # Avancer les compteurs\n",
        "        self.idx_0 += self.n_class_0_per_batch\n",
        "        self.idx_1 += self.n_class_1_per_batch\n",
        "        \n",
        "        # Combiner et mélanger\n",
        "        batch_indices = np.concatenate([batch_0_indices, batch_1_indices])\n",
        "        np.random.shuffle(batch_indices)\n",
        "        \n",
        "        batch_x = []\n",
        "        batch_y = []\n",
        "        \n",
        "        for i in batch_indices:\n",
        "            img_path = f'/Users/macbookair/Desktop/therapanacea/ml_exercise_therapanacea/train_img/{files[i]}'\n",
        "            img = cv2.imread(img_path)\n",
        "            if img is not None:\n",
        "                img = cv2.cvtColor(img, cv2.COLOR_BGR2RGB)\n",
        "                img = cv2.resize(img, (224, 224))\n",
        "                img = img.astype(np.float32)\n",
        "                img = preprocess_input(img)\n",
        "                batch_x.append(img)\n",
        "                batch_y.append(y[i])\n",
        "        \n",
        "        return np.array(batch_x), np.array(batch_y)\n",
        "\n",
        "# Créer les générateurs stratifiés\n",
        "print(\"Création des générateurs stratifiés...\")\n",
        "\n",
        "# Pour l'entraînement : équilibrer les classes\n",
        "train_gen = StratifiedGenerator(train_sample_indices, y_train, \n",
        "                               batch_size=32, class_0_ratio=0.5)  # 50/50\n",
        "\n",
        "# Pour la validation : garder la distribution naturelle\n",
        "val_class_0_ratio = np.sum(y_val == 0) / len(y_val)\n",
        "val_gen = StratifiedGenerator(val_sample_indices, y_val, \n",
        "                             batch_size=32, class_0_ratio=val_class_0_ratio)\n",
        "\n",
        "# Entraînement\n",
        "print(\"\\nEntraînement avec batches stratifiés...\")\n",
        "history = model.fit(train_gen,\n",
        "                    epochs=2,\n",
        "                    validation_data=val_gen,\n",
        "                    verbose=1)\n",
        "                    # Plus besoin de class_weight avec batches équilibrés !\n",
        "\n",
        "print(\"Entraînement terminé !\")"
      ]
    },
    {
      "cell_type": "code",
      "execution_count": 85,
      "metadata": {},
      "outputs": [
        {
          "name": "stdout",
          "output_type": "stream",
          "text": [
            "\n",
            "==================================================\n",
            "TEST HTER POUR DIFFÉRENTS SEUILS\n",
            "==================================================\n",
            "Seuil    HTER    \n",
            "--------------------\n",
            "0.10     0.2408  \n",
            "0.12     0.2233  \n",
            "0.14     0.2090  \n",
            "0.16     0.2025  \n",
            "0.18     0.1905  \n",
            "0.20     0.1865  \n",
            "0.22     0.1722  \n",
            "0.24     0.1683  \n",
            "0.26     0.1610  \n",
            "0.28     0.1568  \n",
            "0.30     0.1465  \n",
            "0.32     0.1414  \n",
            "0.34     0.1401  \n",
            "0.36     0.1397  \n",
            "0.38     0.1324  \n",
            "0.40     0.1306  \n",
            "0.42     0.1259  \n",
            "0.44     0.1201  \n",
            "0.46     0.1206  \n",
            "0.48     0.1184  \n",
            "0.50     0.1162  \n",
            "0.52     0.1158  \n",
            "0.54     0.1110  \n",
            "0.56     0.1130  \n",
            "0.58     0.1170  \n",
            "0.60     0.1200  \n",
            "0.62     0.1227  \n",
            "0.64     0.1248  \n",
            "0.66     0.1287  \n",
            "0.68     0.1311  \n",
            "0.70     0.1346  \n",
            "0.72     0.1382  \n",
            "0.74     0.1461  \n",
            "0.76     0.1540  \n",
            "0.78     0.1589  \n",
            "0.80     0.1657  \n",
            "0.82     0.1690  \n",
            "0.84     0.1769  \n",
            "0.86     0.1862  \n",
            "0.88     0.1999  \n",
            "0.90     0.2122  \n",
            "\n",
            "🎯 MEILLEUR SEUIL: 0.54 (HTER: 0.1110)\n"
          ]
        }
      ],
      "source": [
        "from sklearn.metrics import confusion_matrix\n",
        "import numpy as np\n",
        "\n",
        "def test_hter_only():\n",
        "    \"\"\"Teste différents seuils et affiche seulement HTER\"\"\"\n",
        "    print(\"\\n\" + \"=\"*50)\n",
        "    print(\"TEST HTER POUR DIFFÉRENTS SEUILS\")\n",
        "    print(\"=\"*50)\n",
        "    \n",
        "    all_y_true = []\n",
        "    all_y_pred_proba = []\n",
        "    \n",
        "    # Collecter toutes les probabilités\n",
        "    for i in range(len(val_gen)):\n",
        "        X_batch, y_batch = val_gen[i]\n",
        "        y_pred_batch = model.predict(X_batch, verbose=0)\n",
        "        \n",
        "        if y_pred_batch.shape[1] == 1:\n",
        "            proba_class_0 = y_pred_batch.flatten()\n",
        "        else:\n",
        "            proba_class_0 = y_pred_batch[:, 0]\n",
        "            \n",
        "        all_y_true.extend(y_batch)\n",
        "        all_y_pred_proba.extend(proba_class_0)\n",
        "    \n",
        "    all_y_true = np.array(all_y_true)\n",
        "    all_y_pred_proba = np.array(all_y_pred_proba)\n",
        "    \n",
        "    # Générer beaucoup de seuils entre 0.1 et 0.9\n",
        "    thresholds = np.arange(0.1, 0.91, 0.02)  # De 0.1 à 0.9 par pas de 0.02\n",
        "    \n",
        "    print(f\"{'Seuil':<8} {'HTER':<8}\")\n",
        "    print(\"-\" * 20)\n",
        "    \n",
        "    best_hter = 1.0\n",
        "    best_threshold = 0.5\n",
        "    \n",
        "    for threshold in thresholds:\n",
        "        y_pred = (all_y_pred_proba > threshold).astype(int)\n",
        "        \n",
        "        try:\n",
        "            # Calculer HTER\n",
        "            cm = confusion_matrix(all_y_true, y_pred)\n",
        "            \n",
        "            if cm.sum() > 0:\n",
        "                frr = cm[0, 1] / (cm[0, 0] + cm[0, 1]) if (cm[0, 0] + cm[0, 1]) > 0 else 0\n",
        "                far = cm[1, 0] / (cm[1, 0] + cm[1, 1]) if (cm[1, 0] + cm[1, 1]) > 0 else 0\n",
        "                hter = (far + frr) / 2\n",
        "            else:\n",
        "                hter = 1.0\n",
        "            \n",
        "            print(f\"{threshold:<8.2f} {hter:<8.4f}\")\n",
        "            \n",
        "            # Garder le meilleur seuil pour HTER\n",
        "            if hter < best_hter:\n",
        "                best_hter = hter\n",
        "                best_threshold = threshold\n",
        "                \n",
        "        except Exception as e:\n",
        "            print(f\"{threshold:<8.2f} Erreur\")\n",
        "    \n",
        "    print(f\"\\n🎯 MEILLEUR SEUIL: {best_threshold:.2f} (HTER: {best_hter:.4f})\")\n",
        "    \n",
        "    return best_threshold, best_hter\n",
        "\n",
        "# Test des seuils pour HTER seulement\n",
        "best_threshold, best_hter = test_hter_only()"
      ]
    },
    {
      "cell_type": "code",
      "execution_count": null,
      "metadata": {},
      "outputs": [
        {
          "name": "stdout",
          "output_type": "stream",
          "text": [
            "\n",
            "============================================================\n",
            "TEST HTER SUR LES 1000 PREMIÈRES IMAGES DE VAL_IMG\n",
            "============================================================\n",
            "Récupération des probabilités...\n"
          ]
        },
        {
          "name": "stderr",
          "output_type": "stream",
          "text": [
            "Calcul probas: 100%|██████████| 1000/1000 [01:04<00:00, 15.46it/s]"
          ]
        },
        {
          "name": "stdout",
          "output_type": "stream",
          "text": [
            "\n",
            "Seuil    HTER    \n",
            "--------------------\n",
            "0.10     0.2574  \n",
            "0.12     0.2312  \n",
            "0.14     0.2244  \n",
            "0.16     0.1948  \n",
            "0.18     0.1840  \n",
            "0.20     0.1686  \n",
            "0.22     0.1601  \n",
            "0.24     0.1572  \n",
            "0.26     0.1509  \n",
            "0.28     0.1452  \n",
            "0.30     0.1469  \n",
            "0.32     0.1486  \n",
            "0.34     0.1463  \n",
            "0.36     0.1457  \n",
            "0.38     0.1405  \n",
            "0.40     0.1376  \n",
            "0.42     0.1410  \n",
            "0.44     0.1347  \n",
            "0.46     0.1369  \n",
            "0.48     0.1346  \n",
            "0.50     0.1380  \n",
            "0.52     0.1363  \n",
            "0.54     0.1271  \n",
            "0.56     0.1311  \n",
            "0.58     0.1197  \n",
            "0.60     0.1270  \n",
            "0.62     0.1292  \n",
            "0.64     0.1337  \n",
            "0.66     0.1336  \n",
            "0.68     0.1392  \n",
            "0.70     0.1465  \n",
            "0.72     0.1475  \n",
            "0.74     0.1532  \n",
            "0.76     0.1582  \n",
            "0.78     0.1587  \n",
            "0.80     0.1637  \n",
            "0.82     0.1727  \n",
            "0.84     0.1788  \n",
            "0.86     0.1912  \n",
            "0.88     0.1995  \n",
            "0.90     0.2175  \n",
            "\n",
            "🎯 MEILLEUR SEUIL: 0.58 (HTER: 0.1197)\n"
          ]
        },
        {
          "name": "stderr",
          "output_type": "stream",
          "text": [
            "\n"
          ]
        }
      ],
      "source": [
        "from sklearn.metrics import confusion_matrix\n",
        "import numpy as np\n",
        "\n",
        "def test_hter_val_images():\n",
        "    \"\"\"Teste différents seuils HTER sur les 1000 premières images de val_img\"\"\"\n",
        "    print(\"\\n\" + \"=\"*60)\n",
        "    print(\"TEST HTER SUR LES 1000 PREMIÈRES IMAGES DE VAL_IMG\")\n",
        "    print(\"=\"*60)\n",
        "    \n",
        "    # Vos indices de classe 0 pour les 1000 premières images de val_img\n",
        "    true_class_0_indices = [2,11,16,19,20,30,32,39,48,53,54,63,74,78,81,88,90,94,109,\n",
        "                            121,126,127,143,148,171,175,178,182,190,192,198,222,226,\n",
        "                            230,292,301,313,316,318,343,356,357,358,369,370,380,416,\n",
        "                            420,423,426,428,440,457,460,479,488,491,494,500,512,515,\n",
        "                            518,522,525,526,537,545,548,549,551,553,566,567,582,589,\n",
        "                            590,595,600,602,609,613,661,664,685,700,704,711,712,723,724,\n",
        "                            726,728,739,861,867,869,874,886,888,889,893,895,903,904,\n",
        "                            940,944,949,977,978,999]\n",
        "    \n",
        "    # Créer le vecteur de vrais labels\n",
        "    y_true = np.ones(1000)  # Par défaut classe 1\n",
        "    for idx in true_class_0_indices:\n",
        "        y_true[idx - 1] = 0  # Convertir 1-based vers 0-based\n",
        "    \n",
        "    # Charger les probabilités depuis le modèle (refaire les prédictions pour avoir les probas)\n",
        "    val_directory = '/Users/macbookair/Desktop/therapanacea/ml_exercise_therapanacea/val_img'\n",
        "    os.chdir(val_directory)\n",
        "    all_files = sorted([f for f in os.listdir() if f.endswith('.jpg')])[:1000]\n",
        "    \n",
        "    print(\"Récupération des probabilités...\")\n",
        "    all_y_pred_proba = []\n",
        "    \n",
        "    for filename in tqdm(all_files, desc=\"Calcul probas\"):\n",
        "        try:\n",
        "            img = cv2.imread(filename)\n",
        "            if img is not None:\n",
        "                img = cv2.cvtColor(img, cv2.COLOR_BGR2RGB)\n",
        "                img = cv2.resize(img, (224, 224))\n",
        "                img = img.astype(np.float32)\n",
        "                img = preprocess_input(img)\n",
        "                img_batch = np.expand_dims(img, axis=0)\n",
        "                \n",
        "                pred_proba = model.predict(img_batch, verbose=0)[0, 0]\n",
        "                all_y_pred_proba.append(pred_proba)\n",
        "            else:\n",
        "                all_y_pred_proba.append(0.5)  # Défaut\n",
        "        except:\n",
        "            all_y_pred_proba.append(0.5)  # Défaut\n",
        "    \n",
        "    all_y_pred_proba = np.array(all_y_pred_proba)\n",
        "    \n",
        "    # Générer beaucoup de seuils entre 0.1 et 0.9\n",
        "    thresholds = np.arange(0.1, 0.91, 0.02)  # De 0.1 à 0.9 par pas de 0.02\n",
        "    \n",
        "    print(f\"\\n{'Seuil':<8} {'HTER':<8}\")\n",
        "    print(\"-\" * 20)\n",
        "    \n",
        "    best_hter = 1.0\n",
        "    best_threshold = 0.5\n",
        "    \n",
        "    for threshold in thresholds:\n",
        "        y_pred = (all_y_pred_proba > threshold).astype(int)\n",
        "        \n",
        "        try:\n",
        "            # Calculer HTER\n",
        "            cm = confusion_matrix(y_true, y_pred)\n",
        "            \n",
        "            if cm.sum() > 0:\n",
        "                frr = cm[0, 1] / (cm[0, 0] + cm[0, 1]) if (cm[0, 0] + cm[0, 1]) > 0 else 0\n",
        "                far = cm[1, 0] / (cm[1, 0] + cm[1, 1]) if (cm[1, 0] + cm[1, 1]) > 0 else 0\n",
        "                hter = (far + frr) / 2\n",
        "            else:\n",
        "                hter = 1.0\n",
        "            \n",
        "            print(f\"{threshold:<8.2f} {hter:<8.4f}\")\n",
        "            \n",
        "            # Garder le meilleur seuil pour HTER\n",
        "            if hter < best_hter:\n",
        "                best_hter = hter\n",
        "                best_threshold = threshold\n",
        "                \n",
        "        except Exception as e:\n",
        "            print(f\"{threshold:<8.2f} Erreur\")\n",
        "    \n",
        "    print(f\"\\n🎯 MEILLEUR SEUIL: {best_threshold:.2f} (HTER: {best_hter:.4f})\")\n",
        "    \n",
        "    return best_threshold, best_hter\n",
        "\n",
        "# Test des seuils pour HTER sur val_img\n",
        "best_threshold, best_hter = test_hter_val_images()"
      ]
    },
    {
      "cell_type": "code",
      "execution_count": 88,
      "metadata": {},
      "outputs": [
        {
          "name": "stdout",
          "output_type": "stream",
          "text": [
            "Prédiction sur TOUTES les images de val_img...\n",
            "Nombre total d'images: 20000\n",
            "Première image: 000001.jpg\n",
            "Dernière image: 020000.jpg\n",
            "Seuil utilisé: 0.56\n"
          ]
        },
        {
          "name": "stderr",
          "output_type": "stream",
          "text": [
            "label_val: 100%|██████████| 20000/20000 [22:56<00:00, 14.53it/s]  "
          ]
        },
        {
          "name": "stdout",
          "output_type": "stream",
          "text": [
            "\n",
            "Prédictions sauvegardées dans: /Users/macbookair/Desktop/therapanacea/ml_exercise_therapanacea/all_val_predictions.txt\n",
            "Format: ligne N = prédiction pour image N\n",
            "Exemple: ligne 1 = prédiction pour 000001.jpg\n",
            "         ligne 20000 = prédiction pour 020000.jpg\n",
            "\n",
            "Statistiques des prédictions sur 20000 images:\n",
            "Classe 0 (avec accessoires): 4292 images (21.5%)\n",
            "Classe 1 (sans accessoires): 15708 images (78.5%)\n",
            "Terminé ! Le fichier all_val_predictions.txt contient les prédictions pour TOUTES les images de val_img.\n"
          ]
        },
        {
          "name": "stderr",
          "output_type": "stream",
          "text": [
            "\n"
          ]
        }
      ],
      "source": [
        "import os\n",
        "import cv2\n",
        "import numpy as np\n",
        "from tensorflow.keras.applications.mobilenet_v2 import preprocess_input\n",
        "from tqdm import tqdm\n",
        "\n",
        "def predict_all_val_images(model, val_dir, threshold=0.56, output_file='all_predictions.txt'):\n",
        "    \"\"\"\n",
        "    Fait les prédictions sur TOUTES les images de val_img avec le seuil spécifié\n",
        "    \"\"\"\n",
        "    # Calculer le chemin du dossier parent pour sauvegarder\n",
        "    parent_dir = os.path.dirname(val_dir)\n",
        "    output_path = os.path.join(parent_dir, output_file)\n",
        "    \n",
        "    # Aller dans le dossier val_img\n",
        "    os.chdir(val_dir)\n",
        "    \n",
        "    # Lister et trier TOUS les fichiers .jpg\n",
        "    all_files = sorted([f for f in os.listdir() if f.endswith('.jpg')])\n",
        "    \n",
        "    print(f\"Prédiction sur TOUTES les images de val_img...\")\n",
        "    print(f\"Nombre total d'images: {len(all_files)}\")\n",
        "    print(f\"Première image: {all_files[0]}\")\n",
        "    print(f\"Dernière image: {all_files[-1]}\")\n",
        "    print(f\"Seuil utilisé: {threshold}\")\n",
        "    \n",
        "    predictions = []\n",
        "    \n",
        "    # Faire les prédictions sur toutes les images\n",
        "    for i, filename in enumerate(tqdm(all_files, desc=\"label_val\")):\n",
        "        try:\n",
        "            # Charger l'image\n",
        "            img = cv2.imread(filename)\n",
        "            if img is not None:\n",
        "                # Preprocessing identique à l'entraînement\n",
        "                img = cv2.cvtColor(img, cv2.COLOR_BGR2RGB)\n",
        "                img = cv2.resize(img, (224, 224))\n",
        "                img = img.astype(np.float32)\n",
        "                img = preprocess_input(img)\n",
        "                \n",
        "                # Ajouter dimension batch\n",
        "                img_batch = np.expand_dims(img, axis=0)\n",
        "                \n",
        "                # Prédiction\n",
        "                pred_proba = model.predict(img_batch, verbose=0)[0, 0]  # Sigmoid output\n",
        "                pred_class = 1 if pred_proba > threshold else 0\n",
        "                \n",
        "                predictions.append(pred_class)\n",
        "            else:\n",
        "                print(f\"Erreur lecture: {filename}\")\n",
        "                predictions.append(0)  # Valeur par défaut\n",
        "                \n",
        "        except Exception as e:\n",
        "            print(f\"Erreur avec {filename}: {e}\")\n",
        "            predictions.append(0)\n",
        "    \n",
        "    # Sauvegarder dans le fichier texte dans le dossier parent\n",
        "    with open(output_path, 'w') as f:\n",
        "        for i, pred in enumerate(predictions):\n",
        "            f.write(f\"{pred}\\n\")  # Ligne i+1 = prédiction pour image i+1\n",
        "    \n",
        "    print(f\"\\nPrédictions sauvegardées dans: {output_path}\")\n",
        "    print(f\"Format: ligne N = prédiction pour image N\")\n",
        "    print(f\"Exemple: ligne 1 = prédiction pour {all_files[0]}\")\n",
        "    print(f\"         ligne {len(all_files)} = prédiction pour {all_files[-1]}\")\n",
        "    \n",
        "    # Statistiques\n",
        "    pred_array = np.array(predictions)\n",
        "    print(f\"\\nStatistiques des prédictions sur {len(predictions)} images:\")\n",
        "    print(f\"Classe 0 (avec accessoires): {np.sum(pred_array == 0)} images ({np.mean(pred_array == 0)*100:.1f}%)\")\n",
        "    print(f\"Classe 1 (sans accessoires): {np.sum(pred_array == 1)} images ({np.mean(pred_array == 1)*100:.1f}%)\")\n",
        "    \n",
        "    return predictions\n",
        "\n",
        "# Utilisation\n",
        "val_directory = '/Users/macbookair/Desktop/therapanacea/ml_exercise_therapanacea/val_img'\n",
        "all_predictions = predict_all_val_images(\n",
        "    model=model,\n",
        "    val_dir=val_directory,\n",
        "    threshold=0.56,  # Votre seuil optimal\n",
        "    output_file='all_val_predictions.txt'\n",
        ")\n",
        "\n",
        "print(\"Terminé ! Le fichier all_val_predictions.txt contient les prédictions pour TOUTES les images de val_img.\")"
      ]
    },
    {
      "cell_type": "code",
      "execution_count": 87,
      "metadata": {
        "colab": {
          "base_uri": "https://localhost:8080/",
          "height": 470
        },
        "id": "B77ojQRuB7su",
        "outputId": "057af754-a767-425f-c56f-e3381084e7de"
      },
      "outputs": [
        {
          "data": {
            "image/png": "[encoded data removed]",
            "text/plain": [
              "<Figure size 640x480 with 1 Axes>"
            ]
          },
          "metadata": {},
          "output_type": "display_data"
        },
        {
          "data": {
            "text/plain": [
              "<Figure size 640x480 with 0 Axes>"
            ]
          },
          "metadata": {},
          "output_type": "display_data"
        }
      ],
      "source": [
        "import matplotlib.pyplot as plt\n",
        "%matplotlib inline\n",
        "acc = history.history['accuracy']\n",
        "val_acc = history.history['val_accuracy']\n",
        "loss = history.history['loss']\n",
        "val_loss = history.history['val_loss']\n",
        "\n",
        "epochs = range(len(acc))\n",
        "\n",
        "plt.plot(epochs, acc, 'r', label='Training accuracy')\n",
        "plt.plot(epochs, val_acc, 'b', label='Validation accuracy')\n",
        "plt.title('Training and validation accuracy')\n",
        "plt.legend(loc=0)\n",
        "plt.figure()\n",
        "\n",
        "plt.show()"
      ]
    }
  ],
  "metadata": {
    "accelerator": "TPU",
    "colab": {
      "gpuType": "V28",
      "provenance": []
    },
    "kernelspec": {
      "display_name": "Python 3",
      "name": "python3"
    },
    "language_info": {
      "codemirror_mode": {
        "name": "ipython",
        "version": 3
      },
      "file_extension": ".py",
      "mimetype": "text/x-python",
      "name": "python",
      "nbconvert_exporter": "python",
      "pygments_lexer": "ipython3",
      "version": "3.11.5"
    }
  },
  "nbformat": 4,
  "nbformat_minor": 0
}
